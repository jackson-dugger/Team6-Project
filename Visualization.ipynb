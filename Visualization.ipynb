{
 "cells": [
  {
   "cell_type": "markdown",
   "metadata": {},
   "source": [
    "Importing required libraries and the dataset\n",
    "\n",
    "To Do:\n",
    "\tLook at realtionship between small fires (<= 3.2 ha) and large fires (> 3.2 ha), see if there are any correlations.\n",
    "\tSee if the most impactful variable is the same for both\n",
    "\tSee correlation\n"
   ]
  },
  {
   "cell_type": "code",
   "execution_count": 541,
   "metadata": {},
   "outputs": [],
   "source": [
    "import pandas as pd\n",
    "import numpy as np\n",
    "import matplotlib.pylab as plt\n",
    "import sklearn\n",
    "import seaborn as sns\n",
    "from sklearn import linear_model\n",
    "from sklearn.linear_model import LinearRegression\n",
    "from sklearn.linear_model import HuberRegressor\n",
    "from sklearn.model_selection import train_test_split\n",
    "from sklearn import metrics\n",
    "from sklearn.neighbors import KNeighborsClassifier, KNeighborsRegressor\n",
    "from sklearn.svm import SVC, SVR\n",
    "import tensorflow as tf\n",
    "from sklearn.ensemble import RandomForestRegressor\n",
    "from tensorflow import keras\n",
    "\n",
    "from tensorflow.keras import layers\n",
    "import os\n",
    "from sklearn.metrics import explained_variance_score, \\\n",
    "    mean_absolute_error, \\\n",
    "    median_absolute_error\n",
    "import statsmodels.api as sma\n",
    "\n",
    "#Disable tensorflow warning\n",
    "tf.get_logger().setLevel('INFO')\n",
    "os.environ['TF_CPP_MIN_LOG_LEVEL'] = '3'\n",
    "\n",
    "\n"
   ]
  },
  {
   "cell_type": "markdown",
   "metadata": {},
   "source": [
    "The goal of this project is to predict forest fire area based on a variety of feature variables.\n",
    "I will be creating both a Linear regression and a Huber regression, then will test to see which has the best fit.\n"
   ]
  },
  {
   "cell_type": "markdown",
   "metadata": {},
   "source": [
    "Need to do data cleanup first\n"
   ]
  },
  {
   "cell_type": "code",
   "execution_count": 547,
   "metadata": {},
   "outputs": [
    {
     "name": "stdout",
     "output_type": "stream",
     "text": [
      "<class 'pandas.core.frame.DataFrame'>\n",
      "RangeIndex: 517 entries, 0 to 516\n",
      "Data columns (total 13 columns):\n",
      " #   Column  Non-Null Count  Dtype  \n",
      "---  ------  --------------  -----  \n",
      " 0   X       517 non-null    int64  \n",
      " 1   Y       517 non-null    int64  \n",
      " 2   month   517 non-null    object \n",
      " 3   day     517 non-null    object \n",
      " 4   FFMC    517 non-null    float64\n",
      " 5   DMC     517 non-null    float64\n",
      " 6   DC      517 non-null    float64\n",
      " 7   ISI     517 non-null    float64\n",
      " 8   temp    517 non-null    float64\n",
      " 9   RH      517 non-null    int64  \n",
      " 10  wind    517 non-null    float64\n",
      " 11  rain    517 non-null    float64\n",
      " 12  area    517 non-null    float64\n",
      "dtypes: float64(8), int64(3), object(2)\n",
      "memory usage: 52.6+ KB\n"
     ]
    }
   ],
   "source": [
    "df = pd.read_csv('./forestfires.csv')\n",
    "df.info()\n",
    "\n",
    "# Change the month and day to integers\n",
    "month_dict = {'jan': 1, 'feb': 2, 'mar': 3, 'apr': 4, 'may': 5, 'jun': 6,\n",
    "              'jul': 7, 'aug': 8, 'sep': 9, 'oct': 10, 'nov': 11, 'dec': 12}\n",
    "\n",
    "df.replace({'month': month_dict}, inplace=True)\n",
    "\n",
    "day_dict = {'sun': 1, 'mon': 2, 'tue': 3,\n",
    "            'wed': 4, 'thu': 5, 'fri': 6, 'sat': 7}\n",
    "\n",
    "df.replace({'day':day_dict}, inplace=True)\n",
    "\n",
    "large_fires = df[df['area'] > 3.2]\n",
    "lf = large_fires\n",
    "\n",
    "ns = df[df['area'] > 0]\n",
    "\n",
    "# Make rain binary, 1 if it has rained, 0 if no\n",
    "# df['rain'] = np.where(df['rain'] > 0, 1,0)\n",
    "# df['area'] = [np.log(area +  1) for area in df['area']]\n",
    "# df['area']"
   ]
  },
  {
   "cell_type": "code",
   "execution_count": 543,
   "metadata": {},
   "outputs": [
    {
     "data": {
      "text/plain": [
       "area     1.000000\n",
       "temp     0.097844\n",
       "DMC      0.072994\n",
       "X        0.063385\n",
       "month    0.056496\n",
       "DC       0.049383\n",
       "day      0.048359\n",
       "Y        0.044873\n",
       "FFMC     0.040122\n",
       "wind     0.012317\n",
       "ISI      0.008258\n",
       "rain    -0.007366\n",
       "RH      -0.075519\n",
       "Name: area, dtype: float64"
      ]
     },
     "execution_count": 543,
     "metadata": {},
     "output_type": "execute_result"
    }
   ],
   "source": [
    "# Correlation matrix that sorts high to low based on relationship to area\n",
    "# Temperature and DMC have the highest correlation\n",
    "# RH and rain are the only two variables with a negative correlation\n",
    "df.corr().iloc[-1].sort_values(ascending=False)\n"
   ]
  },
  {
   "cell_type": "markdown",
   "metadata": {},
   "source": [
    "Train model with tf"
   ]
  },
  {
   "cell_type": "code",
   "execution_count": null,
   "metadata": {},
   "outputs": [],
   "source": [
    "X = df[['FFMC', 'DMC', 'DC', 'ISI', 'temp']]\n",
    "Y = df['area']\n",
    "X_train, X_tmp, y_train, y_tmp = train_test_split(X, Y, test_size=0.2)\n",
    "X_test, X_val, y_test, y_val = train_test_split(X_tmp, y_tmp, test_size=0.5)\n",
    "y_train = y_train.reset_index(drop = True)\n",
    "X_train = X_train.reset_index(drop = True)\n",
    "\n",
    "print(X_train)\n",
    "print(len(y_train))\n",
    "\n",
    "feature_cols = [tf.feature_column.numeric_column(col) for col in X.columns]\n",
    "\n",
    "X_train.shape, X_test.shape, X_val.shape\n",
    "\n",
    "regressor = tf.compat.v1.estimator.DNNRegressor(\n",
    "    feature_columns=feature_cols,  hidden_units=[50, 50], model_dir='tf_wx_model')\n",
    "\n",
    "\n",
    "def wx_input_fn(X, y=None, num_epochs=None, shuffle=False, batch_size=400):\n",
    "    return tf.compat.v1.estimator.inputs.pandas_input_fn(x=X, y=y, num_epochs=num_epochs, shuffle=shuffle, batch_size=batch_size)\n",
    "evaluations = []\n",
    "STEPS = 40\n",
    "for i in range(10):\n",
    "    regressor.train(input_fn=wx_input_fn(X_train, y=y_train), steps=STEPS)\n",
    "    evaluations.append(regressor.evaluate(input_fn=wx_input_fn(X_val,\n",
    "                                                               y_val,\n",
    "                                                               num_epochs=1,\n",
    "                                                               shuffle=False)))\n"
   ]
  },
  {
   "cell_type": "code",
   "execution_count": null,
   "metadata": {},
   "outputs": [],
   "source": [
    "loss_values = [ev['loss'] for ev in evaluations]\n",
    "training_steps = [ev['global_step'] for ev in evaluations]\n",
    "\n",
    "plt.scatter(x=training_steps, y=loss_values)\n",
    "plt.xlabel('Training steps (Epochs = steps / 2)')\n",
    "plt.ylabel('Loss (SSE)')\n",
    "plt.show()"
   ]
  },
  {
   "cell_type": "code",
   "execution_count": null,
   "metadata": {},
   "outputs": [],
   "source": [
    "pred = regressor.predict(input_fn=wx_input_fn(X_test,\n",
    "                                              num_epochs=1,\n",
    "                                              shuffle=False))\n",
    "predictions = np.array([p['predictions'][0] for p in pred])\n",
    "\n",
    "print(\"The Explained Variance: %.2f\" % explained_variance_score(\n",
    "                                            y_test, predictions))  \n",
    "print(\"The Mean Absolute Error: %.2f\" % mean_absolute_error(\n",
    "                                            y_test, predictions))  \n",
    "print(\"The Median Absolute Error: %.2f\" % median_absolute_error(\n",
    "                                            y_test, predictions))"
   ]
  },
  {
   "cell_type": "markdown",
   "metadata": {},
   "source": [
    "Fit model, Random Forest\n",
    "\n",
    "The original paper only tested:\n",
    "\tTemperature\n",
    "\tRain\n",
    "\tRelative Humidity\n",
    "\tWind Speed\n",
    "\n",
    "Used natural log area + 1"
   ]
  },
  {
   "cell_type": "code",
   "execution_count": null,
   "metadata": {},
   "outputs": [],
   "source": [
    "from sklearn.model_selection import cross_val_score\n",
    "\n",
    "Y = df['area']\n",
    "Y = [np.log(area +  1) for area in Y]\n",
    "X = df[['temp', 'wind','rain','RH']]\n",
    "\n",
    "\n",
    "figure, axis = plt.subplots(4,1)\n",
    "figure.set_figheight(10)\n",
    "count = 0\n",
    "for i, n in X.iteritems():\n",
    "\t\n",
    "\tfeature = np.array(n)[:, np.newaxis]\n",
    "\tols = LinearRegression()\n",
    "\tols.fit(feature, Y)\n",
    "\ty_pred = ols.predict(feature)\n",
    "\n",
    "\taxis[count].set_title(i)\n",
    "\taxis[count].scatter(feature, Y)\n",
    "\taxis[count].plot(feature, y_pred, color='red')\n",
    "\n",
    "\tscores = -cross_val_score(ols, feature, Y, scoring=\"neg_mean_squared_error\", cv=8)\n",
    "\tprint(ols.coef_)\n",
    "\tprint(f'{i}: {np.mean(scores)} neg mean squared error')\n",
    "\tcount += 1\n",
    "\n"
   ]
  },
  {
   "cell_type": "markdown",
   "metadata": {},
   "source": [
    "Make rain binary, if > 0 then 1, otherwise 0 then predict."
   ]
  },
  {
   "cell_type": "code",
   "execution_count": null,
   "metadata": {},
   "outputs": [],
   "source": [
    "X = df.loc[:,df.columns != 'area']\n",
    "Y = df['area']\n",
    "\n",
    "\n",
    "ols = LinearRegression()\n",
    "ols.fit(X, Y)\n",
    "y_pred  = ols.predict(X)\n",
    "\n",
    "ols.intercept_\n",
    "\n"
   ]
  },
  {
   "cell_type": "markdown",
   "metadata": {},
   "source": [
    "Data Cleanup:\n",
    "\tSplit large and small fires by area\n",
    "\tConvert area to log\n",
    "\tCreate X and y variables for both large and small fires"
   ]
  },
  {
   "cell_type": "code",
   "execution_count": null,
   "metadata": {},
   "outputs": [],
   "source": [
    "# There are 341 small fires\n",
    "small_fires = df[df['area'] <= 3.2]\n",
    "\n",
    "# 176 large_fires\n",
    "large_fires = df[df['area'] > 3.2]\n",
    "\n",
    "# Convert the areas in both df to log\n",
    "small_fires.loc[:, 'area'] = [np.log(area +  1) for area in small_fires['area']]\n",
    "large_fires.loc[:, 'area'] = [np.log(area +  1) for area in large_fires['area']]\n",
    "\n",
    "X_sf = small_fires.loc[:, small_fires.columns != 'area']\n",
    "y_sf = small_fires.loc[:, 'area']\n",
    "\n",
    "X_lf = large_fires.loc[:, large_fires.columns != 'area']\n",
    "y_lf = large_fires.loc[:, 'area']\n",
    "\n"
   ]
  },
  {
   "cell_type": "code",
   "execution_count": null,
   "metadata": {},
   "outputs": [],
   "source": [
    "#Run correlation to see most impactful variables\n",
    "\n",
    "print('Small Fires: \\n', small_fires.corr().iloc[-1].sort_values(ascending = False), sep = '')\n",
    "print('Large Fires: \\n', large_fires.corr().iloc[-1].sort_values(ascending = False), sep='')"
   ]
  },
  {
   "cell_type": "markdown",
   "metadata": {},
   "source": [
    "Next, run a LinearRegression for both and look at summary"
   ]
  },
  {
   "cell_type": "code",
   "execution_count": null,
   "metadata": {},
   "outputs": [],
   "source": [
    "# Small Fires:\n",
    "X_sf = small_fires.loc[:, small_fires.columns != 'area']\n",
    "y_sf = small_fires.loc[:, 'area']\n",
    "X2_sf = sma.add_constant(X_sf)\n",
    "\n",
    "sf_ols = sma.OLS(y_sf, X2_sf)\n",
    "sf_est = sf_ols.fit()\n",
    "\n",
    "# Large Fires: \n",
    "X_lf = large_fires.loc[:, large_fires.columns != 'area']\n",
    "y_lf = large_fires.loc[:, 'area']\n",
    "X2_lf = sma.add_constant(X_lf)\n",
    "\n",
    "lf_ols = sma.OLS(y_lf, X2_lf)\n",
    "lf_est = lf_ols.fit()\n",
    "\n",
    "print('Small Fires:\\n', sf_est.summary())\n",
    "print('Large Fires:\\n',lf_est.summary())\n",
    "print(sf_est.pvalues)\n"
   ]
  },
  {
   "cell_type": "markdown",
   "metadata": {},
   "source": [
    "Statistically Significant\n",
    "Small Fires:\n",
    "\tTemp\n",
    "\n",
    "Large Fires:\n",
    "\tX\n",
    "\tDC\n",
    "\n",
    "Coefficients (Ignoring month):\n",
    "Small Fires:\n",
    "\tRain = -0.0660\n",
    "\tTemp = 0.0170\n",
    "\tWind = 0.0116\n",
    "\n",
    "\n",
    "Large Fires: \n",
    "\tTemp = 0.0391\n",
    "\twind = 0.0104\n",
    "\train = -0.1180\n",
    "\n",
    "Temp has a much larger impact on the area of large fires, but can statistically significantly predict small fires."
   ]
  },
  {
   "cell_type": "markdown",
   "metadata": {},
   "source": [
    "Create a neural network to see how effectively it can predict the size of large fires.\n",
    "Create an svm model and predict."
   ]
  },
  {
   "cell_type": "code",
   "execution_count": null,
   "metadata": {},
   "outputs": [],
   "source": [
    "# SVM First, Using Rain, temp, wind, RH\n",
    "# Split into testing and training datasets\n",
    "# Transform area into 0 for small fires and 1 for large fires (Necessary for SVM)\n",
    "X = df.loc[:, ['rain', 'temp','wind','RH']]\n",
    "y = [0 if area <= 3.2 else 1 for area in df['area']]\n",
    "\n",
    "# with pd.option_context('display.max_rows', None,\n",
    "#                        'display.max_columns', None,\n",
    "#                        'display.precision', 3,\n",
    "#                        ):\n",
    "#     print(df)\n",
    "\n",
    "# Calculate average accuracy over 100 tests\n",
    "accuracy_svc = []\n",
    "accuracy_knn = []\n",
    "\n",
    "# disp = metrics.plot_confusion_matrix(svm_model, X_test, y_test)\n",
    "# plt.title(\"SVM Classifier\")\n",
    "# print(disp.confusion_matrix)\n",
    "\n",
    "# disp_knn = metrics.plot_confusion_matrix(KNN_model, X_test, y_test)\n",
    "# plt.title(\"KNN Classifier\")\n",
    "# print(disp_knn.confusion_matrix)\n",
    "\t\n",
    "for _ in range(300):\n",
    "\tX_train, X_test, y_train, y_test = train_test_split(X, y, shuffle=True)\n",
    "\n",
    "\tsvm_model = SVC()\n",
    "\tsvm_model.fit(X_train, y_train)\n",
    "\n",
    "\tKNN_model = KNeighborsClassifier(n_neighbors = 10).fit(X_train,y_train)\n",
    "\n",
    "\ty_pred_svc = svm_model.predict(X_test)\n",
    "\ty_pred_knn = KNN_model.predict(X_test)\n",
    "\n",
    "\taccuracy_svc.append(metrics.accuracy_score(y_test, y_pred_svc))\n",
    "\taccuracy_knn.append(metrics.accuracy_score(y_test, y_pred_knn))\n",
    "\n",
    "print('SVC Accuracy : ', np.mean(accuracy_svc))\n",
    "print('KNN Accuracy : ', np.mean(accuracy_knn))\n"
   ]
  },
  {
   "cell_type": "code",
   "execution_count": null,
   "metadata": {},
   "outputs": [],
   "source": [
    "# Run SVM and KNN again with 4 other variables\n",
    "X = df.loc[:, ['FFMC','DC','ISI','DMC']]\n",
    "y = [0 if area <= 3.2 else 1 for area in df['area']]\n",
    "\n",
    "accuracy_svc = []\n",
    "accuracy_knn = []\n",
    "\n",
    "for _ in range(300):\n",
    "\tX_train, X_test, y_train, y_test = train_test_split(X, y, shuffle=True)\n",
    "\n",
    "\tsvm_model = SVC()\n",
    "\tsvm_model.fit(X_train, y_train)\n",
    "\n",
    "\tKNN_model = KNeighborsClassifier(n_neighbors = 10).fit(X_train,y_train)\n",
    "\n",
    "\ty_pred_svc = svm_model.predict(X_test)\n",
    "\ty_pred_knn = KNN_model.predict(X_test)\n",
    "\n",
    "\taccuracy_svc.append(metrics.accuracy_score(y_test, y_pred_svc))\n",
    "\taccuracy_knn.append(metrics.accuracy_score(y_test, y_pred_knn))\n",
    "\n",
    "print('SVC Accuracy : ', np.mean(accuracy_svc))\n",
    "print('KNN Accuracy : ', np.mean(accuracy_knn))\n"
   ]
  },
  {
   "cell_type": "markdown",
   "metadata": {},
   "source": [
    "SVC has the best accuracy of predicting whether a fire will be large or small when using the 4 meterological variables\n",
    "\n",
    "Rain wind temp rh\n",
    "SVC Accuracy :  0.6628974358974359\n",
    "KNN Accuracy :  0.6458717948717949\n",
    "\n",
    "FFMC DMC DC ISI\n",
    "SVC Accuracy :  0.6566410256410257\n",
    "KNN Accuracy :  0.6336410256410258"
   ]
  },
  {
   "cell_type": "markdown",
   "metadata": {},
   "source": [
    "Now, train an SVM regression model and predict area size for large fires only"
   ]
  },
  {
   "cell_type": "code",
   "execution_count": null,
   "metadata": {},
   "outputs": [],
   "source": [
    "# Helper function for running a model many times to get an average accuracy score\n",
    "def many_tests(x, y, n = 100):\n",
    "\tknn = []\n",
    "\tsvr = []\n",
    "\tfor _ in range(n):\n",
    "\t\tX_train, X_test, y_train, y_test = train_test_split(x, y)\n",
    "\n",
    "\t\tsvr_model = SVR()\n",
    "\t\tsvr_model.fit(X_train, y_train)\n",
    "\n",
    "\t\tknn_model = sklearn.neighbors.KNeighborsRegressor(n_neighbors = 10)\n",
    "\t\tknn_model.fit(X_train, y_train)\n",
    "\t\ty_pred_knn = knn_model.predict(X_test)\n",
    "\t\tknn.append(knn_model.score(X_test, y_test))\n",
    "\n",
    "\t\tsvr.append(svr_model.score(X_test, y_test))\n",
    "\tknn_score = np.mean(knn)\n",
    "\tsvr_score = np.mean(svr)\n",
    "\treturn [svr_score, knn_score]\n",
    "\n"
   ]
  },
  {
   "cell_type": "code",
   "execution_count": null,
   "metadata": {},
   "outputs": [],
   "source": [
    "X = large_fires.loc[:,  ['rain','wind','temp','RH']]\n",
    "y = [np.log(area + 1) for area  in large_fires['area']]\n",
    "\n",
    "X_train, X_test, y_train, y_test = train_test_split(X, y)\n",
    "\n",
    "svr_model = SVR()\n",
    "svr_model.fit(X_train, y_train)\n",
    "\n",
    "knn_model = sklearn.neighbors.KNeighborsRegressor(n_neighbors = 10)\n",
    "knn_model.fit(X_train, y_train)\n",
    "y_pred_knn = knn_model.predict(X_test)\n",
    "\n",
    "plt.scatter(y_test, y_pred_knn, label='KNN Model')\n",
    "plt.xlabel('True Area')\n",
    "plt.ylabel('Predicted Area')\n",
    "plt.xlim([1,5])\n",
    "plt.ylim([1,5])\n",
    "plt.plot([1,5], [1,5], color = 'black')\n",
    "\n",
    "y_pred = svr_model.predict(X_test)\n",
    "\n",
    "plt.scatter(y_test, y_pred, label = 'SVR Model')\n",
    "plt.legend()\n",
    "\n",
    "print(many_tests(X, y, 100))\n",
    "\n"
   ]
  },
  {
   "cell_type": "code",
   "execution_count": null,
   "metadata": {},
   "outputs": [],
   "source": [
    "# SVR model with actual areas, not log\n",
    "\n",
    "large_fires = df[df['area'] > 3.2]\n",
    "large_fires = large_fires[large_fires['area'] < 200]\n",
    "X = large_fires.loc[:,  ['rain','wind','temp','RH']]\n",
    "y = large_fires['area']\n",
    "\n",
    "X_train, X_test, y_train, y_test = train_test_split(X, y, test_size = 0.25)\n",
    "\n",
    "svr_model = SVR()\n",
    "svr_model.fit(X_train, y_train)\n",
    "y_pred_svr = svr_model.predict(X)\n",
    "\n",
    "plt.scatter(y, y_pred_svr)\n",
    "\n",
    "knn_model = sklearn.neighbors.KNeighborsRegressor(n_neighbors = 10)\n",
    "knn_model.fit(X_train, y_train)\n",
    "y_pred_knn = knn_model.predict(X_test)\n"
   ]
  },
  {
   "cell_type": "code",
   "execution_count": null,
   "metadata": {},
   "outputs": [],
   "source": [
    "# Without the rain variable large_fires = df[df['area'] > 3.2]\n",
    "X = large_fires.loc[:,  ~large_fires.columns.isin(['area','month','day','X','Y','rain'])]\n",
    "y = [np.log(area + 1) for area  in large_fires['area']]\n",
    "\n",
    "X_train, X_test, y_train, y_test = train_test_split(X, y, test_size = 0.2)\n",
    "\n",
    "svr_model = SVR()\n",
    "svr_model.fit(X_train, y_train)\n",
    "\n",
    "knn_model = sklearn.neighbors.KNeighborsRegressor(n_neighbors = 10)\n",
    "knn_model.fit(X_train, y_train)\n",
    "y_pred_knn = knn_model.predict(X_test)\n",
    "print('KNN Model Score:', knn_model.score(X_test, y_test))\n",
    "\n",
    "plt.scatter(y_test, y_pred_knn, label='KNN Model')\n",
    "plt.xlabel('True Area')\n",
    "plt.ylabel('Predicted Area')\n",
    "plt.xlim([1,5])\n",
    "plt.ylim([1,5])\n",
    "plt.plot([1,5], [1,5], color = 'black')\n",
    "\n",
    "y_pred = svr_model.predict(X_test)\n",
    "print('SVR Model Score',svr_model.score(X_test, y_test))\n",
    "\n",
    "plt.scatter(y_test, y_pred, label = 'SVR Model')\n",
    "plt.legend()\n"
   ]
  },
  {
   "cell_type": "markdown",
   "metadata": {},
   "source": [
    "NN BFGS Algorithm"
   ]
  },
  {
   "cell_type": "code",
   "execution_count": 442,
   "metadata": {},
   "outputs": [],
   "source": [
    "X = large_fires.loc[:,  ~large_fires.columns.isin(['area','X','Y','month','day','rain'])]\n",
    "X = X.to_numpy()\n",
    "y = [np.log(area + 1) for area in large_fires['area']]\n",
    "y = np.asarray(y)\n",
    "\n",
    "X_train, X_test, y_train, y_test = train_test_split(X, y, test_size=0.25, random_state=23)\n"
   ]
  },
  {
   "cell_type": "code",
   "execution_count": 435,
   "metadata": {},
   "outputs": [],
   "source": [
    "# Running ML models with actual area instead of log area\n",
    "X = large_fires.loc[:,  ~large_fires.columns.isin(['area','X','Y','month','day','rain'])]\n",
    "X = X.to_numpy()\n",
    "y = large_fires['area']\n",
    "y = np.asarray(y)\n",
    "\n",
    "X_train, X_test, y_train, y_test = train_test_split(X, y, test_size=0.25, random_state=23)"
   ]
  },
  {
   "cell_type": "code",
   "execution_count": 437,
   "metadata": {},
   "outputs": [],
   "source": [
    "def plot_loss(history):\n",
    "  plt.plot(history.history['loss'], label='loss')\n",
    "  plt.plot(history.history['val_loss'], label='val_loss')\n",
    "  plt.ylim([0, 50])\n",
    "  plt.xlabel('Epoch')\n",
    "  plt.ylabel('Error [AREA]')\n",
    "  plt.legend()\n",
    "  plt.grid(True)"
   ]
  },
  {
   "cell_type": "markdown",
   "metadata": {},
   "source": [
    "Linear Regression Tensorflow"
   ]
  },
  {
   "cell_type": "code",
   "execution_count": 443,
   "metadata": {},
   "outputs": [
    {
     "name": "stdout",
     "output_type": "stream",
     "text": [
      "[[ 90.47879   116.34924   568.3659      8.484849   18.667423   44.045456\n",
      "    4.2431817]]\n"
     ]
    },
    {
     "data": {
      "image/png": "[encoded data removed]",
      "text/plain": [
       "<Figure size 432x288 with 1 Axes>"
      ]
     },
     "metadata": {
      "needs_background": "light"
     },
     "output_type": "display_data"
    }
   ],
   "source": [
    "normalizer = tf.keras.layers.Normalization(axis=-1)\n",
    "normalizer.adapt(np.array(X_train))\n",
    "print(normalizer.mean.numpy())\n",
    "\n",
    "first = np.array(X_train[:1])\n",
    "\n",
    "linear_model = tf.keras.Sequential([\n",
    "    normalizer,\n",
    "    layers.Dense(units=1)\n",
    "])\n",
    "\n",
    "linear_model.compile(\n",
    "    optimizer=tf.keras.optimizers.Adam(learning_rate=0.1),\n",
    "    loss='mean_absolute_error')\n",
    "\n",
    "history = linear_model.fit(\n",
    "    X_train,\n",
    "    y_train,\n",
    "    epochs=200,\n",
    "    # Suppress logging.\n",
    "    verbose=0,\n",
    "\tvalidation_split=0.3)\n",
    "\t\n",
    "plot_loss(history)\n",
    "\n",
    "test_results_linear = linear_model.evaluate(\n",
    "    X_test, y_test, verbose=0)"
   ]
  },
  {
   "cell_type": "markdown",
   "metadata": {},
   "source": [
    "DNN Regression"
   ]
  },
  {
   "cell_type": "code",
   "execution_count": 439,
   "metadata": {},
   "outputs": [
    {
     "data": {
      "image/png": "[encoded data removed]",
      "text/plain": [
       "<Figure size 432x288 with 1 Axes>"
      ]
     },
     "metadata": {
      "needs_background": "light"
     },
     "output_type": "display_data"
    }
   ],
   "source": [
    "def build_and_compile_model(norm):\n",
    "  model = keras.Sequential([\n",
    "      norm,\n",
    "      layers.Dense(64, activation='relu'),\n",
    "      layers.Dense(64, activation='relu'),\n",
    "      layers.Dense(1)\n",
    "  ])\n",
    "\n",
    "  model.compile(loss='mean_absolute_error',\n",
    "                optimizer=tf.keras.optimizers.Adam(0.001))\n",
    "  return model\n",
    "\n",
    "dnnr_model = build_and_compile_model(normalizer)\n",
    "\n",
    "history = dnnr_model.fit(\n",
    "    X_train,\n",
    "    y_train,\n",
    "    validation_split=0.3,\n",
    "    verbose=0, epochs=300)\n",
    "\n",
    "plot_loss(history)\n",
    "\n",
    "test_results_dnnr = dnnr_model.evaluate(X_test, y_test, verbose=0)\n"
   ]
  },
  {
   "cell_type": "code",
   "execution_count": 440,
   "metadata": {},
   "outputs": [
    {
     "data": {
      "text/html": [
       "<div>\n",
       "<style scoped>\n",
       "    .dataframe tbody tr th:only-of-type {\n",
       "        vertical-align: middle;\n",
       "    }\n",
       "\n",
       "    .dataframe tbody tr th {\n",
       "        vertical-align: top;\n",
       "    }\n",
       "\n",
       "    .dataframe thead th {\n",
       "        text-align: right;\n",
       "    }\n",
       "</style>\n",
       "<table border=\"1\" class=\"dataframe\">\n",
       "  <thead>\n",
       "    <tr style=\"text-align: right;\">\n",
       "      <th></th>\n",
       "      <th>Linear Model</th>\n",
       "      <th>DNNR</th>\n",
       "    </tr>\n",
       "  </thead>\n",
       "  <tbody>\n",
       "    <tr>\n",
       "      <th>Mean Absolute Error</th>\n",
       "      <td>25.020716</td>\n",
       "      <td>25.765486</td>\n",
       "    </tr>\n",
       "  </tbody>\n",
       "</table>\n",
       "</div>"
      ],
      "text/plain": [
       "                     Linear Model       DNNR\n",
       "Mean Absolute Error     25.020716  25.765486"
      ]
     },
     "execution_count": 440,
     "metadata": {},
     "output_type": "execute_result"
    }
   ],
   "source": [
    "# Print test results\n",
    "test_results = {'Linear Model': test_results_linear, 'DNNR': test_results_dnnr}\n",
    "pd.DataFrame(test_results, index=['Mean Absolute Error'])"
   ]
  },
  {
   "cell_type": "code",
   "execution_count": 441,
   "metadata": {},
   "outputs": [
    {
     "name": "stdout",
     "output_type": "stream",
     "text": [
      "2/2 [==============================] - 0s 5ms/step\n"
     ]
    },
    {
     "data": {
      "text/plain": [
       "Text(0.5, 1.0, 'DNNR Model Predictions')"
      ]
     },
     "execution_count": 441,
     "metadata": {},
     "output_type": "execute_result"
    },
    {
     "data": {
      "image/png": "[encoded data removed]",
      "text/plain": [
       "<Figure size 432x288 with 1 Axes>"
      ]
     },
     "metadata": {
      "needs_background": "light"
     },
     "output_type": "display_data"
    }
   ],
   "source": [
    "# Plot accuracy of DNNR\n",
    "\n",
    "test_predictions = dnnr_model.predict(X_test).flatten()\n",
    "\n",
    "a = plt.axes(aspect='equal')\n",
    "plt.scatter(y_test, test_predictions)\n",
    "plt.xlabel('True Values [Area]')\n",
    "plt.ylabel('Predictions [Area]')\n",
    "plt.xlim([0,6])\n",
    "plt.ylim([0,6])\n",
    "_ = plt.plot([0,6], [0,6])\n",
    "plt.title('DNNR Model Predictions')"
   ]
  },
  {
   "cell_type": "code",
   "execution_count": 432,
   "metadata": {},
   "outputs": [
    {
     "name": "stdout",
     "output_type": "stream",
     "text": [
      "2/2 [==============================] - 0s 3ms/step\n"
     ]
    },
    {
     "data": {
      "text/plain": [
       "Text(0.5, 1.0, 'Linear Model Predictions')"
      ]
     },
     "execution_count": 432,
     "metadata": {},
     "output_type": "execute_result"
    },
    {
     "data": {
      "image/png": "[encoded data removed]",
      "text/plain": [
       "<Figure size 432x288 with 1 Axes>"
      ]
     },
     "metadata": {
      "needs_background": "light"
     },
     "output_type": "display_data"
    }
   ],
   "source": [
    "# Plot accuracy of linear model\n",
    "\n",
    "test_predictions = linear_model.predict(X_test).flatten()\n",
    "\n",
    "a = plt.axes(aspect='equal')\n",
    "plt.scatter(y_test, test_predictions)\n",
    "plt.xlabel('True Values [Area]')\n",
    "plt.ylabel('Predictions [Area]')\n",
    "plt.xlim([0,6])\n",
    "plt.ylim([0,6])\n",
    "_ = plt.plot([0,6], [0,6])\n",
    "plt.title(\"Linear Model Predictions\")"
   ]
  },
  {
   "cell_type": "code",
   "execution_count": null,
   "metadata": {},
   "outputs": [],
   "source": [
    "error = test_predictions - y_test\n",
    "plt.hist(error, bins=25)\n",
    "plt.xlabel('Prediction Error [Area]')\n",
    "_ = plt.ylabel('Count')"
   ]
  },
  {
   "cell_type": "code",
   "execution_count": 423,
   "metadata": {},
   "outputs": [
    {
     "data": {
      "text/plain": [
       "[<tf.Variable 'mean:0' shape=(7,) dtype=float32, numpy=\n",
       " array([ 90.47879  , 116.34924  , 568.3659   ,   8.484849 ,  18.667423 ,\n",
       "         44.045456 ,   4.2431817], dtype=float32)>,\n",
       " <tf.Variable 'variance:0' shape=(7,) dtype=float32, numpy=\n",
       " array([1.7388794e+01, 5.3394224e+03, 6.2735762e+04, 1.5242043e+01,\n",
       "        4.3233562e+01, 2.5030095e+02, 3.5271509e+00], dtype=float32)>,\n",
       " <tf.Variable 'count:0' shape=() dtype=int64, numpy=132>]"
      ]
     },
     "execution_count": 423,
     "metadata": {},
     "output_type": "execute_result"
    }
   ],
   "source": [
    "dnnr_model.layers[0].weights"
   ]
  },
  {
   "cell_type": "code",
   "execution_count": 487,
   "metadata": {},
   "outputs": [
    {
     "name": "stdout",
     "output_type": "stream",
     "text": [
      "SVR MSE:  2.290265640692473\n",
      "KNN MSE:  2.2013324651843087\n",
      "Random Forest MSE:  2.0929043569196875\n"
     ]
    },
    {
     "data": {
      "text/plain": [
       "[<matplotlib.lines.Line2D at 0x7f7fe65ab5e0>]"
      ]
     },
     "execution_count": 487,
     "metadata": {},
     "output_type": "execute_result"
    },
    {
     "data": {
      "image/png": "[encoded data removed]",
      "text/plain": [
       "<Figure size 432x288 with 1 Axes>"
      ]
     },
     "metadata": {
      "needs_background": "light"
     },
     "output_type": "display_data"
    }
   ],
   "source": [
    "X = ns.loc[:, ~ns.columns.isin(['area','X','Y','month','day'])]\n",
    "y = [np.log(area + 1) for area in ns['area']]\n",
    "\n",
    "X_train, X_test, y_train, y_test = train_test_split(X, y, test_size = 0.25)\n",
    "\n",
    "# First run svr\n",
    "\n",
    "svr_model = SVR()\n",
    "svr_model.fit(X_train, y_train)\n",
    "y_pred_svr = svr_model.predict(X_test)\n",
    "a = metrics.mean_squared_error(y_test, y_pred_svr)\n",
    "print('SVR MSE: ', a)\n",
    "\n",
    "knn_model = KNeighborsRegressor(n_neighbors = 18)\n",
    "knn_model.fit(X_train, y_train)\n",
    "y_pred_knn = knn_model.predict(X_test)\n",
    "b = metrics.mean_squared_error(y_test, y_pred_knn)\n",
    "print('KNN MSE: ', b)\n",
    "\n",
    "rf_model = RandomForestRegressor()\n",
    "rf_model.fit(X_train, y_train)\n",
    "y_pred_rf =  rf_model.predict(X_test)\n",
    "c = metrics.mean_squared_error(y_test, y_pred_rf)\n",
    "print('Random Forest MSE: ', c)\n",
    "\n",
    "\n",
    "\n",
    "\n",
    "# Mean squared error of 2.6227\n",
    "\n",
    "# Now KNN, must loop to find best n_neighbors\n",
    "\n",
    "\n",
    "# test = {}\n",
    "# for i in range(1, 20):\n",
    "# \t# Test each n_neighbors many times to get good estimate\n",
    "# \tb = []\n",
    "# \tfor j in range(50):\n",
    "# \t\tk = KNeighborsRegressor(n_neighbors = i)\n",
    "# \t\tk.fit(X_train, y_train)\n",
    "# \t\tp = k.predict(X_test)\n",
    "# \t\tb.append(metrics.mean_squared_error(y_test, p))\n",
    "# \ttest[i] = np.mean(b)\n",
    "\n",
    "# print(test)\n",
    "\n",
    "plt.scatter(y_test, y_pred_svr, label = 'SVR')\n",
    "plt.scatter(y_test, y_pred_knn, label = 'KNN')\n",
    "plt.scatter(y_test, y_pred_rf, label = 'Random Forest')\n",
    "plt.legend()\n",
    "plt.xlabel('True Area')\n",
    "plt.ylabel('Predicted Area')\n",
    "plt.xlim([0,5])\n",
    "plt.ylim([0,5])\n",
    "plt.plot([0,5], [0,5])\n"
   ]
  },
  {
   "cell_type": "code",
   "execution_count": 502,
   "metadata": {},
   "outputs": [
    {
     "name": "stdout",
     "output_type": "stream",
     "text": [
      "[0.01588833]\n"
     ]
    },
    {
     "data": {
      "image/png": "[encoded data removed]",
      "text/plain": [
       "<Figure size 432x288 with 1 Axes>"
      ]
     },
     "metadata": {
      "needs_background": "light"
     },
     "output_type": "display_data"
    }
   ],
   "source": [
    "X = large_fires[['temp']]\n",
    "y = [np.log(area + 1) for area in large_fires['area']]\n",
    "\n",
    "X_train, X_test, y_train, y_test = train_test_split(X, y, test_size = 0.25)\n",
    "\n",
    "ols = HuberRegressor().fit(X_train, y_train)\n",
    "y_pred = ols.predict(X_test)\n",
    "\n",
    "plt.scatter(X_test, y_test)\n",
    "plt.plot(X_test, y_pred)\n",
    "plt.title('Temp vs. Area')\n",
    "plt.xlabel('Temperature')\n",
    "plt.ylabel('Area')\n",
    "print(ols.coef_)\n"
   ]
  },
  {
   "cell_type": "code",
   "execution_count": 504,
   "metadata": {},
   "outputs": [
    {
     "name": "stdout",
     "output_type": "stream",
     "text": [
      "[-0.00418577]\n"
     ]
    },
    {
     "data": {
      "image/png": "[encoded data removed]",
      "text/plain": [
       "<Figure size 432x288 with 1 Axes>"
      ]
     },
     "metadata": {
      "needs_background": "light"
     },
     "output_type": "display_data"
    }
   ],
   "source": [
    "X = large_fires[['RH']]\n",
    "y = [np.log(area + 1) for area in large_fires['area']]\n",
    "\n",
    "X_train, X_test, y_train, y_test = train_test_split(X, y, test_size = 0.25)\n",
    "\n",
    "ols = HuberRegressor().fit(X_train, y_train)\n",
    "y_pred = ols.predict(X_test)\n",
    "\n",
    "plt.scatter(X_test, y_test)\n",
    "plt.plot(X_test, y_pred)\n",
    "plt.title('Humidity vs. Area')\n",
    "plt.xlabel('Humidity')\n",
    "plt.ylabel('Area')\n",
    "print(ols.coef_)\n",
    "plt.show()"
   ]
  },
  {
   "cell_type": "code",
   "execution_count": 506,
   "metadata": {},
   "outputs": [
    {
     "name": "stdout",
     "output_type": "stream",
     "text": [
      "[0.04117384]\n"
     ]
    },
    {
     "data": {
      "image/png": "[encoded data removed]",
      "text/plain": [
       "<Figure size 432x288 with 1 Axes>"
      ]
     },
     "metadata": {
      "needs_background": "light"
     },
     "output_type": "display_data"
    }
   ],
   "source": [
    "X = large_fires[['wind']]\n",
    "y = [np.log(area + 1) for area in large_fires['area']]\n",
    "\n",
    "X_train, X_test, y_train, y_test = train_test_split(X, y, test_size = 0.25)\n",
    "\n",
    "ols = LinearRegression().fit(X_train, y_train)\n",
    "y_pred = ols.predict(X_test)\n",
    "\n",
    "plt.scatter(X_test, y_test)\n",
    "plt.plot(X_test, y_pred)\n",
    "plt.title('Wind vs. Area')\n",
    "plt.xlabel('Wind')\n",
    "plt.ylabel('Area')\n",
    "print(ols.coef_)"
   ]
  },
  {
   "cell_type": "code",
   "execution_count": 550,
   "metadata": {},
   "outputs": [
    {
     "data": {
      "text/plain": [
       "<AxesSubplot:>"
      ]
     },
     "execution_count": 550,
     "metadata": {},
     "output_type": "execute_result"
    },
    {
     "data": {
      "image/png": "[encoded data removed]",
      "text/plain": [
       "<Figure size 432x288 with 2 Axes>"
      ]
     },
     "metadata": {
      "needs_background": "light"
     },
     "output_type": "display_data"
    }
   ],
   "source": [
    "d = lf[['wind','temp','RH','area']].corr()\n",
    "sns.heatmap(d, annot = True)\n"
   ]
  }
 ],
 "metadata": {
  "kernelspec": {
   "display_name": "Python 3.9.7 64-bit",
   "language": "python",
   "name": "python3"
  },
  "language_info": {
   "codemirror_mode": {
    "name": "ipython",
    "version": 3
   },
   "file_extension": ".py",
   "mimetype": "text/x-python",
   "name": "python",
   "nbconvert_exporter": "python",
   "pygments_lexer": "ipython3",
   "version": "3.9.7"
  },
  "orig_nbformat": 4,
  "vscode": {
   "interpreter": {
    "hash": "aee8b7b246df8f9039afb4144a1f6fd8d2ca17a180786b69acc140d282b71a49"
   }
  }
 },
 "nbformat": 4,
 "nbformat_minor": 2
}
