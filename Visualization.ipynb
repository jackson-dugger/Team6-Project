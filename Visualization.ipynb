{
 "cells": [
  {
   "cell_type": "markdown",
   "metadata": {},
   "source": [
    "Importing required libraries and the dataset\n",
    "\n",
    "To Do:\n",
    "\tLook at realtionship between small fires (<= 100m^2) and large fires, see if there are any correlations.\n",
    "\tSee if the most impactful variable is the same for both\n",
    "\tSee correlation\n"
   ]
  },
  {
   "cell_type": "code",
   "execution_count": 3,
   "metadata": {},
   "outputs": [],
   "source": [
    "import pandas as pd\n",
    "import numpy as np\n",
    "import matplotlib.pylab as plt\n",
    "import sklearn\n",
    "from sklearn.model_selection import train_test_split\n",
    "from sklearn.linear_model import LinearRegression\n",
    "import seaborn as sns\n",
    "import statsmodels.api as sma\n",
    "from sklearn.metrics import mean_squared_error\n",
    "\n"
   ]
  },
  {
   "cell_type": "markdown",
   "metadata": {},
   "source": [
    "### Data Cleanup:\n",
    "\n",
    "##### Convert month and day to numerical\n",
    "##### Only take area values > 0\n"
   ]
  },
  {
   "cell_type": "code",
   "execution_count": 9,
   "metadata": {},
   "outputs": [
    {
     "name": "stdout",
     "output_type": "stream",
     "text": [
      "<class 'pandas.core.frame.DataFrame'>\n",
      "RangeIndex: 517 entries, 0 to 516\n",
      "Data columns (total 13 columns):\n",
      " #   Column  Non-Null Count  Dtype  \n",
      "---  ------  --------------  -----  \n",
      " 0   X       517 non-null    int64  \n",
      " 1   Y       517 non-null    int64  \n",
      " 2   month   517 non-null    object \n",
      " 3   day     517 non-null    object \n",
      " 4   FFMC    517 non-null    float64\n",
      " 5   DMC     517 non-null    float64\n",
      " 6   DC      517 non-null    float64\n",
      " 7   ISI     517 non-null    float64\n",
      " 8   temp    517 non-null    float64\n",
      " 9   RH      517 non-null    int64  \n",
      " 10  wind    517 non-null    float64\n",
      " 11  rain    517 non-null    float64\n",
      " 12  area    517 non-null    float64\n",
      "dtypes: float64(8), int64(3), object(2)\n",
      "memory usage: 52.6+ KB\n"
     ]
    }
   ],
   "source": [
    "df = pd.read_csv('./forestfires.csv')\n",
    "df.info()\n",
    "\n",
    "# Change the month and day to integers\n",
    "month_dict = {'jan': 1, 'feb': 2, 'mar': 3, 'apr': 4, 'may': 5, 'jun': 6,\n",
    "              'jul': 7, 'aug': 8, 'sep': 9, 'oct': 10, 'nov': 11, 'dec': 12}\n",
    "\n",
    "df.replace({'month': month_dict}, inplace=True)\n",
    "\n",
    "day_dict = {'sun': 1, 'mon': 2, 'tue': 3,\n",
    "            'wed': 4, 'thu': 5, 'fri': 6, 'sat': 7}\n",
    "\n",
    "df.replace({'day':day_dict}, inplace=True)\n",
    "\n",
    "df = df[df['area'] > 0]\n",
    "\n",
    "#Convert area to log values\n",
    "df['area'] = [np.log(area + 1) for area in df['area']]"
   ]
  },
  {
   "cell_type": "code",
   "execution_count": 543,
   "metadata": {},
   "outputs": [
    {
     "data": {
      "text/plain": [
       "area     1.000000\n",
       "temp     0.097844\n",
       "DMC      0.072994\n",
       "X        0.063385\n",
       "month    0.056496\n",
       "DC       0.049383\n",
       "day      0.048359\n",
       "Y        0.044873\n",
       "FFMC     0.040122\n",
       "wind     0.012317\n",
       "ISI      0.008258\n",
       "rain    -0.007366\n",
       "RH      -0.075519\n",
       "Name: area, dtype: float64"
      ]
     },
     "execution_count": 543,
     "metadata": {},
     "output_type": "execute_result"
    }
   ],
   "source": [
    "# Correlation matrix that sorts high to low based on relationship to area\n",
    "# Temperature and DMC have the highest correlation\n",
    "# RH and rain are the only two variables with a negative correlation\n",
    "df.corr().iloc[-1].sort_values(ascending=False)\n"
   ]
  },
  {
   "cell_type": "code",
   "execution_count": 4,
   "metadata": {},
   "outputs": [
    {
     "name": "stdout",
     "output_type": "stream",
     "text": [
      "[0.00335825]\n"
     ]
    },
    {
     "data": {
      "image/png": "[encoded data removed]",
      "text/plain": [
       "<Figure size 432x288 with 1 Axes>"
      ]
     },
     "metadata": {
      "needs_background": "light"
     },
     "output_type": "display_data"
    }
   ],
   "source": [
    "X = df[['temp']]\n",
    "y = df['area']\n",
    "\n",
    "X_train, X_test, y_train, y_test = train_test_split(X, y, test_size = 0.25)\n",
    "\n",
    "ols = LinearRegression().fit(X_train, y_train)\n",
    "y_pred = ols.predict(X_test)\n",
    "\n",
    "plt.scatter(X_test, y_test)\n",
    "plt.plot(X_test, y_pred)\n",
    "plt.title('Temp vs. Area')\n",
    "plt.xlabel('Temperature')\n",
    "plt.ylabel('Area')\n",
    "print(ols.coef_)\n"
   ]
  },
  {
   "cell_type": "code",
   "execution_count": 504,
   "metadata": {},
   "outputs": [
    {
     "name": "stdout",
     "output_type": "stream",
     "text": [
      "[-0.00418577]\n"
     ]
    },
    {
     "data": {
      "image/png": "[encoded data removed]",
      "text/plain": [
       "<Figure size 432x288 with 1 Axes>"
      ]
     },
     "metadata": {
      "needs_background": "light"
     },
     "output_type": "display_data"
    }
   ],
   "source": [
    "X = df[['RH']]\n",
    "y = df['area']\n",
    "\n",
    "X_train, X_test, y_train, y_test = train_test_split(X, y, test_size = 0.25)\n",
    "\n",
    "ols = LinearRegression().fit(X_train, y_train)\n",
    "y_pred = ols.predict(X_test)\n",
    "\n",
    "plt.scatter(X_test, y_test)\n",
    "plt.plot(X_test, y_pred)\n",
    "plt.title('Humidity vs. Area')\n",
    "plt.xlabel('Humidity')\n",
    "plt.ylabel('Area')\n",
    "print(ols.coef_)\n",
    "plt.show()"
   ]
  },
  {
   "cell_type": "code",
   "execution_count": 506,
   "metadata": {},
   "outputs": [
    {
     "name": "stdout",
     "output_type": "stream",
     "text": [
      "[0.04117384]\n"
     ]
    },
    {
     "data": {
      "image/png": "[encoded data removed]",
      "text/plain": [
       "<Figure size 432x288 with 1 Axes>"
      ]
     },
     "metadata": {
      "needs_background": "light"
     },
     "output_type": "display_data"
    }
   ],
   "source": [
    "X = df[['wind']]\n",
    "y = df['area']\n",
    "\n",
    "X_train, X_test, y_train, y_test = train_test_split(X, y, test_size = 0.25)\n",
    "\n",
    "ols = LinearRegression().fit(X_train, y_train)\n",
    "y_pred = ols.predict(X_test)\n",
    "\n",
    "plt.scatter(X_test, y_test)\n",
    "plt.plot(X_test, y_pred)\n",
    "plt.title('Wind vs. Area')\n",
    "plt.xlabel('Wind')\n",
    "plt.ylabel('Area')\n",
    "print(ols.coef_)"
   ]
  },
  {
   "cell_type": "code",
   "execution_count": 550,
   "metadata": {},
   "outputs": [
    {
     "data": {
      "text/plain": [
       "<AxesSubplot:>"
      ]
     },
     "execution_count": 550,
     "metadata": {},
     "output_type": "execute_result"
    },
    {
     "data": {
      "image/png": "[encoded data removed]",
      "text/plain": [
       "<Figure size 432x288 with 2 Axes>"
      ]
     },
     "metadata": {
      "needs_background": "light"
     },
     "output_type": "display_data"
    }
   ],
   "source": [
    "d = df[['wind','temp','RH','area']].corr()\n",
    "sns.heatmap(d, annot = True)\n"
   ]
  },
  {
   "cell_type": "code",
   "execution_count": 10,
   "metadata": {},
   "outputs": [
    {
     "name": "stdout",
     "output_type": "stream",
     "text": [
      "                                 OLS Regression Results                                \n",
      "=======================================================================================\n",
      "Dep. Variable:                   area   R-squared (uncentered):                   0.728\n",
      "Model:                            OLS   Adj. R-squared (uncentered):              0.724\n",
      "Method:                 Least Squares   F-statistic:                              177.6\n",
      "Date:                Tue, 06 Dec 2022   Prob (F-statistic):                    5.14e-56\n",
      "Time:                        12:29:10   Log-Likelihood:                         -342.58\n",
      "No. Observations:                 202   AIC:                                      691.2\n",
      "Df Residuals:                     199   BIC:                                      701.1\n",
      "Df Model:                           3                                                  \n",
      "Covariance Type:            nonrobust                                                  \n",
      "==============================================================================\n",
      "                 coef    std err          t      P>|t|      [0.025      0.975]\n",
      "------------------------------------------------------------------------------\n",
      "wind           0.1468      0.044      3.340      0.001       0.060       0.233\n",
      "RH             0.0132      0.005      2.769      0.006       0.004       0.023\n",
      "temp           0.0489      0.009      5.437      0.000       0.031       0.067\n",
      "==============================================================================\n",
      "Omnibus:                       12.993   Durbin-Watson:                   2.022\n",
      "Prob(Omnibus):                  0.002   Jarque-Bera (JB):               13.586\n",
      "Skew:                           0.606   Prob(JB):                      0.00112\n",
      "Kurtosis:                       3.380   Cond. No.                         23.3\n",
      "==============================================================================\n",
      "\n",
      "Notes:\n",
      "[1] R² is computed without centering (uncentered) since the model does not contain a constant.\n",
      "[2] Standard Errors assume that the covariance matrix of the errors is correctly specified.\n"
     ]
    },
    {
     "data": {
      "image/png": "[encoded data removed]",
      "text/plain": [
       "<Figure size 432x288 with 1 Axes>"
      ]
     },
     "metadata": {
      "needs_background": "light"
     },
     "output_type": "display_data"
    }
   ],
   "source": [
    "X = df[['wind', 'RH','temp']]\n",
    "y = df['area']\n",
    "\n",
    "X_train, X_test, y_train, y_test = train_test_split(X, y, test_size = 0.25)\n",
    "\n",
    "s_ols = sma.OLS(y_train, X_train).fit()\n",
    "ols = LinearRegression().fit(X_train, y_train)\n",
    "y_pred = ols.predict(X_test)\n",
    "\n",
    "plt.scatter(y_test, y_pred)\n",
    "plt.plot([0,5],[0,5])\n",
    "plt.ylim([1.5,3])\n",
    "plt.xlabel('True Area')\n",
    "plt.ylabel('Predicted Area')\n",
    "print(s_ols.summary())\n"
   ]
  }
 ],
 "metadata": {
  "kernelspec": {
   "display_name": "Python 3.9.7 64-bit",
   "language": "python",
   "name": "python3"
  },
  "language_info": {
   "codemirror_mode": {
    "name": "ipython",
    "version": 3
   },
   "file_extension": ".py",
   "mimetype": "text/x-python",
   "name": "python",
   "nbconvert_exporter": "python",
   "pygments_lexer": "ipython3",
   "version": "3.9.7"
  },
  "orig_nbformat": 4,
  "vscode": {
   "interpreter": {
    "hash": "aee8b7b246df8f9039afb4144a1f6fd8d2ca17a180786b69acc140d282b71a49"
   }
  }
 },
 "nbformat": 4,
 "nbformat_minor": 2
}
